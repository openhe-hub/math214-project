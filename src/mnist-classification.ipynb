{
 "cells": [
  {
   "cell_type": "code",
   "execution_count": 64,
   "metadata": {
    "collapsed": false
   },
   "outputs": [],
   "source": [
    "# 1. import\n",
    "import torch\n",
    "from torch.utils.data import DataLoader\n",
    "from torch import nn\n",
    "import torchvision\n",
    "\n",
    "import matplotlib.pyplot as plt\n",
    "import numpy as np"
   ]
  },
  {
   "cell_type": "code",
   "execution_count": 65,
   "metadata": {
    "collapsed": false
   },
   "outputs": [],
   "source": [
    "# 2. download dataset\n",
    "batch_size = 64\n",
    "\n",
    "train_dataset = torchvision.datasets.MNIST(root=\"../assets/\", train=True, download=True,\n",
    "                                           transform=torchvision.transforms.ToTensor())\n",
    "train_loader = DataLoader(train_dataset, batch_size=batch_size)\n",
    "test_dataset = torchvision.datasets.MNIST(root=\"../assets/\", train=False, download=True,\n",
    "                                          transform=torchvision.transforms.ToTensor())\n",
    "test_loader = DataLoader(test_dataset, batch_size=batch_size)"
   ]
  },
  {
   "cell_type": "code",
   "execution_count": 66,
   "metadata": {
    "collapsed": false
   },
   "outputs": [
    {
     "data": {
      "image/png": "[encoded data removed]",
      "text/plain": [
       "<Figure size 360x360 with 9 Axes>"
      ]
     },
     "metadata": {
      "needs_background": "light"
     },
     "output_type": "display_data"
    }
   ],
   "source": [
    "def plot():\n",
    "    fig, axs = plt.subplots(nrows=3, ncols=3, figsize=(5, 5))\n",
    "    for i, (x, y) in enumerate(train_loader):\n",
    "        if i == 0:\n",
    "            for j in range(9):\n",
    "                idx, idy = int(j / 3), j % 3\n",
    "                axs[idx][idy].imshow(x[j].reshape((28, 28)), cmap=\"gray\")\n",
    "                axs[idx][idy].axis('off')\n",
    "                axs[idx][idy].set_title(y[j].item())\n",
    "        else:\n",
    "            break\n",
    "plot()"
   ]
  },
  {
   "cell_type": "code",
   "execution_count": 67,
   "metadata": {},
   "outputs": [],
   "source": [
    "# loss record\n",
    "sgd_epoch_loss=[]\n",
    "momentum_epoch_loss=[]\n",
    "adam_epoch_loss=[]"
   ]
  },
  {
   "cell_type": "code",
   "execution_count": 88,
   "metadata": {
    "collapsed": false
   },
   "outputs": [
    {
     "name": "stdout",
     "output_type": "stream",
     "text": [
      "MnistClassificationModel(\n",
      "  (conv1): Sequential(\n",
      "    (0): Conv2d(1, 16, kernel_size=(3, 3), stride=(1, 1), padding=(1, 1))\n",
      "    (1): BatchNorm2d(16, eps=1e-05, momentum=0.1, affine=True, track_running_stats=True)\n",
      "    (2): ReLU()\n",
      "    (3): MaxPool2d(kernel_size=2, stride=2, padding=0, dilation=1, ceil_mode=False)\n",
      "  )\n",
      "  (conv2): Sequential(\n",
      "    (0): Conv2d(16, 32, kernel_size=(3, 3), stride=(1, 1), padding=(1, 1))\n",
      "    (1): BatchNorm2d(32, eps=1e-05, momentum=0.1, affine=True, track_running_stats=True)\n",
      "    (2): ReLU()\n",
      "    (3): MaxPool2d(kernel_size=2, stride=2, padding=0, dilation=1, ceil_mode=False)\n",
      "  )\n",
      "  (conv3): Sequential(\n",
      "    (0): Conv2d(32, 64, kernel_size=(3, 3), stride=(1, 1), padding=(1, 1))\n",
      "    (1): BatchNorm2d(64, eps=1e-05, momentum=0.1, affine=True, track_running_stats=True)\n",
      "    (2): ReLU()\n",
      "    (3): MaxPool2d(kernel_size=2, stride=2, padding=0, dilation=1, ceil_mode=False)\n",
      "  )\n",
      "  (linear): Sequential(\n",
      "    (0): Linear(in_features=576, out_features=128, bias=True)\n",
      "    (1): ReLU()\n",
      "    (2): Linear(in_features=128, out_features=64, bias=True)\n",
      "    (3): ReLU()\n",
      "    (4): Linear(in_features=64, out_features=10, bias=True)\n",
      "  )\n",
      ")\n"
     ]
    }
   ],
   "source": [
    "class MnistClassificationModel(nn.Module):\n",
    "    def __init__(self):\n",
    "        super().__init__()\n",
    "        self.conv1 = nn.Sequential(\n",
    "            # (1,28,28) => (16,28,28) => (16,14,14)\n",
    "            nn.Conv2d(1, 16, kernel_size=(3, 3), stride=1, padding=1),\n",
    "            nn.BatchNorm2d(16),\n",
    "            nn.ReLU(),\n",
    "            nn.MaxPool2d(kernel_size=2)\n",
    "        )\n",
    "        self.conv2 = nn.Sequential(\n",
    "            # (16,14,14) => (32,14,14) => (32,7,7)\n",
    "            nn.Conv2d(16, 32, kernel_size=(3, 3), stride=1, padding=1),\n",
    "            nn.BatchNorm2d(32),\n",
    "            nn.ReLU(),\n",
    "            nn.MaxPool2d(kernel_size=2)\n",
    "        )\n",
    "        self.conv3 = nn.Sequential(\n",
    "            # (32,7,7) => (64,7,7) => (64,3,3)\n",
    "            nn.Conv2d(32, 64, kernel_size=(3, 3), stride=1, padding=1),\n",
    "            nn.BatchNorm2d(64),\n",
    "            nn.ReLU(),\n",
    "            nn.MaxPool2d(kernel_size=2)\n",
    "        )\n",
    "        self.linear = nn.Sequential(\n",
    "            nn.Linear(64 * 3 * 3, 128),\n",
    "            nn.ReLU(),\n",
    "            nn.Linear(128, 64),\n",
    "            nn.ReLU(),\n",
    "            nn.Linear(64, 10)\n",
    "        )\n",
    "\n",
    "    def forward(self, x):\n",
    "        x = self.conv1(x)\n",
    "        x = self.conv2(x)\n",
    "        x = self.conv3(x)\n",
    "        x = x.view(x.size(0), -1)  # flatten (batch_size,32*7*7)\n",
    "        x = self.linear(x)\n",
    "        return x\n",
    "# display model\n",
    "model = MnistClassificationModel()\n",
    "print(model)\n"
   ]
  },
  {
   "cell_type": "code",
   "execution_count": 89,
   "metadata": {
    "collapsed": false
   },
   "outputs": [],
   "source": [
    "# optimizer & cost function & params\n",
    "epochs = 30\n",
    "learning_rate = 0.001\n",
    "optimizer = torch.optim.Adam(model.parameters())\n",
    "cost = nn.CrossEntropyLoss()"
   ]
  },
  {
   "cell_type": "code",
   "execution_count": 90,
   "metadata": {
    "collapsed": false
   },
   "outputs": [
    {
     "name": "stdout",
     "output_type": "stream",
     "text": [
      "cuda:0\n"
     ]
    }
   ],
   "source": [
    "# device\n",
    "use_cuda = torch.cuda.is_available()\n",
    "device = \"cuda:0\" if torch.cuda.is_available() else \"cpu\"\n",
    "model = model.to(device)\n",
    "print(device)"
   ]
  },
  {
   "cell_type": "code",
   "execution_count": 91,
   "metadata": {
    "collapsed": false
   },
   "outputs": [
    {
     "name": "stdout",
     "output_type": "stream",
     "text": [
      "\tepoch=0/30(0.0%), 0/60000,loss=2.3158459663391113\n",
      "\tepoch=0/30(0.0%), 6400/60000,loss=0.6670425534248352\n",
      "\tepoch=0/30(0.0%), 12800/60000,loss=0.41162410378456116\n",
      "\tepoch=0/30(0.0%), 19200/60000,loss=0.30870962142944336\n",
      "\tepoch=0/30(0.0%), 25600/60000,loss=0.25007542967796326\n",
      "\tepoch=0/30(0.0%), 32000/60000,loss=0.21540994942188263\n",
      "\tepoch=0/30(0.0%), 38400/60000,loss=0.19194020330905914\n",
      "\tepoch=0/30(0.0%), 44800/60000,loss=0.17526274919509888\n",
      "\tepoch=0/30(0.0%), 51200/60000,loss=0.16228275001049042\n",
      "\tepoch=0/30(0.0%), 57600/60000,loss=0.15120725333690643\n",
      "\tepoch=1/30(3.33%), 0/60000,loss=0.024724721908569336\n",
      "\tepoch=1/30(3.33%), 6400/60000,loss=0.0632348507642746\n",
      "\tepoch=1/30(3.33%), 12800/60000,loss=0.0656488835811615\n",
      "\tepoch=1/30(3.33%), 19200/60000,loss=0.05903574824333191\n",
      "\tepoch=1/30(3.33%), 25600/60000,loss=0.05358380451798439\n",
      "\tepoch=1/30(3.33%), 32000/60000,loss=0.05173930153250694\n",
      "\tepoch=1/30(3.33%), 38400/60000,loss=0.05125486105680466\n",
      "\tepoch=1/30(3.33%), 44800/60000,loss=0.05055449157953262\n",
      "\tepoch=1/30(3.33%), 51200/60000,loss=0.049458060413599014\n",
      "\tepoch=1/30(3.33%), 57600/60000,loss=0.048543673008680344\n",
      "\tepoch=2/30(6.67%), 0/60000,loss=0.02471795678138733\n",
      "\tepoch=2/30(6.67%), 6400/60000,loss=0.04493524879217148\n",
      "\tepoch=2/30(6.67%), 12800/60000,loss=0.04138275608420372\n",
      "\tepoch=2/30(6.67%), 19200/60000,loss=0.03748590126633644\n",
      "\tepoch=2/30(6.67%), 25600/60000,loss=0.035208363085985184\n",
      "\tepoch=2/30(6.67%), 32000/60000,loss=0.034593142569065094\n",
      "\tepoch=2/30(6.67%), 38400/60000,loss=0.03481605276465416\n",
      "\tepoch=2/30(6.67%), 44800/60000,loss=0.035010017454624176\n",
      "\tepoch=2/30(6.67%), 51200/60000,loss=0.03393637016415596\n",
      "\tepoch=2/30(6.67%), 57600/60000,loss=0.03426877409219742\n",
      "\tepoch=3/30(10.0%), 0/60000,loss=0.022005420178174973\n",
      "\tepoch=3/30(10.0%), 6400/60000,loss=0.03271833807229996\n",
      "\tepoch=3/30(10.0%), 12800/60000,loss=0.02974008210003376\n",
      "\tepoch=3/30(10.0%), 19200/60000,loss=0.027860844507813454\n",
      "\tepoch=3/30(10.0%), 25600/60000,loss=0.025611337274312973\n",
      "\tepoch=3/30(10.0%), 32000/60000,loss=0.025986790657043457\n",
      "\tepoch=3/30(10.0%), 38400/60000,loss=0.026679541915655136\n",
      "\tepoch=3/30(10.0%), 44800/60000,loss=0.026284700259566307\n",
      "\tepoch=3/30(10.0%), 51200/60000,loss=0.025956349447369576\n",
      "\tepoch=3/30(10.0%), 57600/60000,loss=0.026396090164780617\n",
      "\tepoch=4/30(13.33%), 0/60000,loss=0.011942826211452484\n",
      "\tepoch=4/30(13.33%), 6400/60000,loss=0.02192700281739235\n",
      "\tepoch=4/30(13.33%), 12800/60000,loss=0.0238590519875288\n",
      "\tepoch=4/30(13.33%), 19200/60000,loss=0.02369423769414425\n",
      "\tepoch=4/30(13.33%), 25600/60000,loss=0.02152743563055992\n",
      "\tepoch=4/30(13.33%), 32000/60000,loss=0.021702658385038376\n",
      "\tepoch=4/30(13.33%), 38400/60000,loss=0.02321523241698742\n",
      "\tepoch=4/30(13.33%), 44800/60000,loss=0.023473192006349564\n",
      "\tepoch=4/30(13.33%), 51200/60000,loss=0.022846410050988197\n",
      "\tepoch=4/30(13.33%), 57600/60000,loss=0.022611720487475395\n",
      "\tepoch=5/30(16.67%), 0/60000,loss=0.0020499429665505886\n",
      "\tepoch=5/30(16.67%), 6400/60000,loss=0.013570277951657772\n",
      "\tepoch=5/30(16.67%), 12800/60000,loss=0.018799368292093277\n",
      "\tepoch=5/30(16.67%), 19200/60000,loss=0.01814962923526764\n",
      "\tepoch=5/30(16.67%), 25600/60000,loss=0.01656513661146164\n",
      "\tepoch=5/30(16.67%), 32000/60000,loss=0.016431935131549835\n",
      "\tepoch=5/30(16.67%), 38400/60000,loss=0.017148012295365334\n",
      "\tepoch=5/30(16.67%), 44800/60000,loss=0.01761353388428688\n",
      "\tepoch=5/30(16.67%), 51200/60000,loss=0.01765552908182144\n",
      "\tepoch=5/30(16.67%), 57600/60000,loss=0.017104972153902054\n",
      "\tepoch=6/30(20.0%), 0/60000,loss=0.0023371700663119555\n",
      "\tepoch=6/30(20.0%), 6400/60000,loss=0.015935644507408142\n",
      "\tepoch=6/30(20.0%), 12800/60000,loss=0.016744937747716904\n",
      "\tepoch=6/30(20.0%), 19200/60000,loss=0.014462762512266636\n",
      "\tepoch=6/30(20.0%), 25600/60000,loss=0.014522098004817963\n",
      "\tepoch=6/30(20.0%), 32000/60000,loss=0.015114448964595795\n",
      "\tepoch=6/30(20.0%), 38400/60000,loss=0.016262328252196312\n",
      "\tepoch=6/30(20.0%), 44800/60000,loss=0.016995646059513092\n",
      "\tepoch=6/30(20.0%), 51200/60000,loss=0.01667318120598793\n",
      "\tepoch=6/30(20.0%), 57600/60000,loss=0.016626829281449318\n",
      "\tepoch=7/30(23.33%), 0/60000,loss=0.0004263167211320251\n",
      "\tepoch=7/30(23.33%), 6400/60000,loss=0.01604892872273922\n",
      "\tepoch=7/30(23.33%), 12800/60000,loss=0.015184813179075718\n",
      "\tepoch=7/30(23.33%), 19200/60000,loss=0.01698363944888115\n",
      "\tepoch=7/30(23.33%), 25600/60000,loss=0.015750093385577202\n",
      "\tepoch=7/30(23.33%), 32000/60000,loss=0.014487424865365028\n",
      "\tepoch=7/30(23.33%), 38400/60000,loss=0.013810495845973492\n",
      "\tepoch=7/30(23.33%), 44800/60000,loss=0.01358167827129364\n",
      "\tepoch=7/30(23.33%), 51200/60000,loss=0.013287452980875969\n",
      "\tepoch=7/30(23.33%), 57600/60000,loss=0.013169849291443825\n",
      "\tepoch=8/30(26.67%), 0/60000,loss=0.021622003987431526\n",
      "\tepoch=8/30(26.67%), 6400/60000,loss=0.01510290801525116\n",
      "\tepoch=8/30(26.67%), 12800/60000,loss=0.01198737695813179\n",
      "\tepoch=8/30(26.67%), 19200/60000,loss=0.010994039475917816\n",
      "\tepoch=8/30(26.67%), 25600/60000,loss=0.010954010300338268\n",
      "\tepoch=8/30(26.67%), 32000/60000,loss=0.010399676859378815\n",
      "\tepoch=8/30(26.67%), 38400/60000,loss=0.011786972172558308\n",
      "\tepoch=8/30(26.67%), 44800/60000,loss=0.011702985502779484\n",
      "\tepoch=8/30(26.67%), 51200/60000,loss=0.011587904766201973\n",
      "\tepoch=8/30(26.67%), 57600/60000,loss=0.011284926906228065\n",
      "\tepoch=9/30(30.0%), 0/60000,loss=0.000542983936611563\n",
      "\tepoch=9/30(30.0%), 6400/60000,loss=0.014001668430864811\n",
      "\tepoch=9/30(30.0%), 12800/60000,loss=0.010684328153729439\n",
      "\tepoch=9/30(30.0%), 19200/60000,loss=0.00935893040150404\n",
      "\tepoch=9/30(30.0%), 25600/60000,loss=0.010034678503870964\n",
      "\tepoch=9/30(30.0%), 32000/60000,loss=0.011246238835155964\n",
      "\tepoch=9/30(30.0%), 38400/60000,loss=0.011278022080659866\n",
      "\tepoch=9/30(30.0%), 44800/60000,loss=0.012171597220003605\n",
      "\tepoch=9/30(30.0%), 51200/60000,loss=0.012446734122931957\n",
      "\tepoch=9/30(30.0%), 57600/60000,loss=0.012235014699399471\n",
      "\tepoch=10/30(33.33%), 0/60000,loss=0.03933359682559967\n",
      "\tepoch=10/30(33.33%), 6400/60000,loss=0.011608746834099293\n",
      "\tepoch=10/30(33.33%), 12800/60000,loss=0.010998500511050224\n",
      "\tepoch=10/30(33.33%), 19200/60000,loss=0.010909040458500385\n",
      "\tepoch=10/30(33.33%), 25600/60000,loss=0.010115748271346092\n",
      "\tepoch=10/30(33.33%), 32000/60000,loss=0.010248770006000996\n",
      "\tepoch=10/30(33.33%), 38400/60000,loss=0.010130723938345909\n",
      "\tepoch=10/30(33.33%), 44800/60000,loss=0.010321808978915215\n",
      "\tepoch=10/30(33.33%), 51200/60000,loss=0.009945793077349663\n",
      "\tepoch=10/30(33.33%), 57600/60000,loss=0.009965948760509491\n",
      "\tepoch=11/30(36.67%), 0/60000,loss=0.011351901106536388\n",
      "\tepoch=11/30(36.67%), 6400/60000,loss=0.01651991344988346\n",
      "\tepoch=11/30(36.67%), 12800/60000,loss=0.012548153288662434\n",
      "\tepoch=11/30(36.67%), 19200/60000,loss=0.012880127876996994\n",
      "\tepoch=11/30(36.67%), 25600/60000,loss=0.013057789765298367\n",
      "\tepoch=11/30(36.67%), 32000/60000,loss=0.012239311821758747\n",
      "\tepoch=11/30(36.67%), 38400/60000,loss=0.011607373133301735\n",
      "\tepoch=11/30(36.67%), 44800/60000,loss=0.01140435878187418\n",
      "\tepoch=11/30(36.67%), 51200/60000,loss=0.01091547030955553\n",
      "\tepoch=11/30(36.67%), 57600/60000,loss=0.010615276172757149\n",
      "\tepoch=12/30(40.0%), 0/60000,loss=0.00024128510267473757\n",
      "\tepoch=12/30(40.0%), 6400/60000,loss=0.008697065524756908\n",
      "\tepoch=12/30(40.0%), 12800/60000,loss=0.009793360717594624\n",
      "\tepoch=12/30(40.0%), 19200/60000,loss=0.009693251922726631\n",
      "\tepoch=12/30(40.0%), 25600/60000,loss=0.010001275688409805\n",
      "\tepoch=12/30(40.0%), 32000/60000,loss=0.009491276927292347\n",
      "\tepoch=12/30(40.0%), 38400/60000,loss=0.009886384010314941\n",
      "\tepoch=12/30(40.0%), 44800/60000,loss=0.00970512442290783\n",
      "\tepoch=12/30(40.0%), 51200/60000,loss=0.009245260618627071\n",
      "\tepoch=12/30(40.0%), 57600/60000,loss=0.009694449603557587\n",
      "\tepoch=13/30(43.33%), 0/60000,loss=5.309905100148171e-05\n",
      "\tepoch=13/30(43.33%), 6400/60000,loss=0.007124722469598055\n",
      "\tepoch=13/30(43.33%), 12800/60000,loss=0.0057709538377821445\n",
      "\tepoch=13/30(43.33%), 19200/60000,loss=0.004741022828966379\n",
      "\tepoch=13/30(43.33%), 25600/60000,loss=0.00489479536190629\n",
      "\tepoch=13/30(43.33%), 32000/60000,loss=0.005087792407721281\n",
      "\tepoch=13/30(43.33%), 38400/60000,loss=0.00565207377076149\n",
      "\tepoch=13/30(43.33%), 44800/60000,loss=0.006857987493276596\n",
      "\tepoch=13/30(43.33%), 51200/60000,loss=0.00743793835863471\n",
      "\tepoch=13/30(43.33%), 57600/60000,loss=0.0073573412373661995\n",
      "\tepoch=14/30(46.67%), 0/60000,loss=0.00043736063526012003\n",
      "\tepoch=14/30(46.67%), 6400/60000,loss=0.003408328164368868\n",
      "\tepoch=14/30(46.67%), 12800/60000,loss=0.004109330475330353\n",
      "\tepoch=14/30(46.67%), 19200/60000,loss=0.0039521874859929085\n",
      "\tepoch=14/30(46.67%), 25600/60000,loss=0.0034007360227406025\n",
      "\tepoch=14/30(46.67%), 32000/60000,loss=0.0030897546093910933\n",
      "\tepoch=14/30(46.67%), 38400/60000,loss=0.00328631023876369\n",
      "\tepoch=14/30(46.67%), 44800/60000,loss=0.004530835431069136\n",
      "\tepoch=14/30(46.67%), 51200/60000,loss=0.0046478682197630405\n",
      "\tepoch=14/30(46.67%), 57600/60000,loss=0.0048790727742016315\n",
      "\tepoch=15/30(50.0%), 0/60000,loss=0.00012091409007553011\n",
      "\tepoch=15/30(50.0%), 6400/60000,loss=0.008669235743582249\n",
      "\tepoch=15/30(50.0%), 12800/60000,loss=0.008722718805074692\n",
      "\tepoch=15/30(50.0%), 19200/60000,loss=0.008487083949148655\n",
      "\tepoch=15/30(50.0%), 25600/60000,loss=0.007974757812917233\n",
      "\tepoch=15/30(50.0%), 32000/60000,loss=0.008126386441290379\n",
      "\tepoch=15/30(50.0%), 38400/60000,loss=0.00788853969424963\n",
      "\tepoch=15/30(50.0%), 44800/60000,loss=0.008071554824709892\n",
      "\tepoch=15/30(50.0%), 51200/60000,loss=0.007947511039674282\n",
      "\tepoch=15/30(50.0%), 57600/60000,loss=0.007501234300434589\n",
      "\tepoch=16/30(53.33%), 0/60000,loss=0.00404805364087224\n",
      "\tepoch=16/30(53.33%), 6400/60000,loss=0.004647443071007729\n",
      "\tepoch=16/30(53.33%), 12800/60000,loss=0.005447737406939268\n",
      "\tepoch=16/30(53.33%), 19200/60000,loss=0.007235417608171701\n",
      "\tepoch=16/30(53.33%), 25600/60000,loss=0.006197353824973106\n",
      "\tepoch=16/30(53.33%), 32000/60000,loss=0.006025978829711676\n",
      "\tepoch=16/30(53.33%), 38400/60000,loss=0.005623018369078636\n",
      "\tepoch=16/30(53.33%), 44800/60000,loss=0.005819070152938366\n",
      "\tepoch=16/30(53.33%), 51200/60000,loss=0.005796111188828945\n",
      "\tepoch=16/30(53.33%), 57600/60000,loss=0.006152202840894461\n",
      "\tepoch=17/30(56.67%), 0/60000,loss=8.121663267957047e-05\n",
      "\tepoch=17/30(56.67%), 6400/60000,loss=0.006078321952372789\n",
      "\tepoch=17/30(56.67%), 12800/60000,loss=0.00579751655459404\n",
      "\tepoch=17/30(56.67%), 19200/60000,loss=0.004601666703820229\n",
      "\tepoch=17/30(56.67%), 25600/60000,loss=0.004818033892661333\n",
      "\tepoch=17/30(56.67%), 32000/60000,loss=0.004487405065447092\n",
      "\tepoch=17/30(56.67%), 38400/60000,loss=0.003973471466451883\n",
      "\tepoch=17/30(56.67%), 44800/60000,loss=0.004661026876419783\n",
      "\tepoch=17/30(56.67%), 51200/60000,loss=0.005028636194765568\n",
      "\tepoch=17/30(56.67%), 57600/60000,loss=0.004947739187628031\n",
      "\tepoch=18/30(60.0%), 0/60000,loss=0.007830592803657055\n",
      "\tepoch=18/30(60.0%), 6400/60000,loss=0.007100877817720175\n",
      "\tepoch=18/30(60.0%), 12800/60000,loss=0.005964688491076231\n",
      "\tepoch=18/30(60.0%), 19200/60000,loss=0.004937662277370691\n",
      "\tepoch=18/30(60.0%), 25600/60000,loss=0.00412389962002635\n",
      "\tepoch=18/30(60.0%), 32000/60000,loss=0.004209461156278849\n",
      "\tepoch=18/30(60.0%), 38400/60000,loss=0.004744591657072306\n",
      "\tepoch=18/30(60.0%), 44800/60000,loss=0.005802882369607687\n",
      "\tepoch=18/30(60.0%), 51200/60000,loss=0.005931579973548651\n",
      "\tepoch=18/30(60.0%), 57600/60000,loss=0.005677038338035345\n",
      "\tepoch=19/30(63.33%), 0/60000,loss=0.050526995211839676\n",
      "\tepoch=19/30(63.33%), 6400/60000,loss=0.0057630399242043495\n",
      "\tepoch=19/30(63.33%), 12800/60000,loss=0.007829815149307251\n",
      "\tepoch=19/30(63.33%), 19200/60000,loss=0.008426531217992306\n",
      "\tepoch=19/30(63.33%), 25600/60000,loss=0.008301395922899246\n",
      "\tepoch=19/30(63.33%), 32000/60000,loss=0.008186555467545986\n",
      "\tepoch=19/30(63.33%), 38400/60000,loss=0.007561963051557541\n",
      "\tepoch=19/30(63.33%), 44800/60000,loss=0.0069417706690728664\n",
      "\tepoch=19/30(63.33%), 51200/60000,loss=0.006812519393861294\n",
      "\tepoch=19/30(63.33%), 57600/60000,loss=0.0069232056848704815\n",
      "\tepoch=20/30(66.67%), 0/60000,loss=2.112514994223602e-05\n",
      "\tepoch=20/30(66.67%), 6400/60000,loss=0.0045178295113146305\n",
      "\tepoch=20/30(66.67%), 12800/60000,loss=0.005373605992645025\n",
      "\tepoch=20/30(66.67%), 19200/60000,loss=0.0053602177649736404\n",
      "\tepoch=20/30(66.67%), 25600/60000,loss=0.004874787293374538\n",
      "\tepoch=20/30(66.67%), 32000/60000,loss=0.004953186493366957\n",
      "\tepoch=20/30(66.67%), 38400/60000,loss=0.005166430491954088\n",
      "\tepoch=20/30(66.67%), 44800/60000,loss=0.004981713835150003\n",
      "\tepoch=20/30(66.67%), 51200/60000,loss=0.0049667563289403915\n",
      "\tepoch=20/30(66.67%), 57600/60000,loss=0.004873388912528753\n",
      "\tepoch=21/30(70.0%), 0/60000,loss=4.795993663719855e-05\n",
      "\tepoch=21/30(70.0%), 6400/60000,loss=0.0048707276582717896\n",
      "\tepoch=21/30(70.0%), 12800/60000,loss=0.0033272842410951853\n",
      "\tepoch=21/30(70.0%), 19200/60000,loss=0.004531359765678644\n",
      "\tepoch=21/30(70.0%), 25600/60000,loss=0.0060928319580852985\n",
      "\tepoch=21/30(70.0%), 32000/60000,loss=0.00577557273209095\n",
      "\tepoch=21/30(70.0%), 38400/60000,loss=0.0051920125260949135\n",
      "\tepoch=21/30(70.0%), 44800/60000,loss=0.004880175925791264\n",
      "\tepoch=21/30(70.0%), 51200/60000,loss=0.005543937440961599\n",
      "\tepoch=21/30(70.0%), 57600/60000,loss=0.0053749424405395985\n",
      "\tepoch=22/30(73.33%), 0/60000,loss=0.00018263887614011765\n",
      "\tepoch=22/30(73.33%), 6400/60000,loss=0.0036458198446780443\n",
      "\tepoch=22/30(73.33%), 12800/60000,loss=0.005142835900187492\n",
      "\tepoch=22/30(73.33%), 19200/60000,loss=0.004191502463072538\n",
      "\tepoch=22/30(73.33%), 25600/60000,loss=0.004068213514983654\n",
      "\tepoch=22/30(73.33%), 32000/60000,loss=0.005723998881876469\n",
      "\tepoch=22/30(73.33%), 38400/60000,loss=0.005554683040827513\n",
      "\tepoch=22/30(73.33%), 44800/60000,loss=0.005794656928628683\n",
      "\tepoch=22/30(73.33%), 51200/60000,loss=0.005708393175154924\n",
      "\tepoch=22/30(73.33%), 57600/60000,loss=0.005390561185777187\n",
      "\tepoch=23/30(76.67%), 0/60000,loss=0.0003643586242105812\n",
      "\tepoch=23/30(76.67%), 6400/60000,loss=0.0009278937359340489\n",
      "\tepoch=23/30(76.67%), 12800/60000,loss=0.0020774772856384516\n",
      "\tepoch=23/30(76.67%), 19200/60000,loss=0.00305870920419693\n",
      "\tepoch=23/30(76.67%), 25600/60000,loss=0.0032182601280510426\n",
      "\tepoch=23/30(76.67%), 32000/60000,loss=0.0033110869117081165\n",
      "\tepoch=23/30(76.67%), 38400/60000,loss=0.0033200972247868776\n",
      "\tepoch=23/30(76.67%), 44800/60000,loss=0.004710956010967493\n",
      "\tepoch=23/30(76.67%), 51200/60000,loss=0.005060973577201366\n",
      "\tepoch=23/30(76.67%), 57600/60000,loss=0.00490242475643754\n",
      "\tepoch=24/30(80.0%), 0/60000,loss=4.070214708917774e-05\n",
      "\tepoch=24/30(80.0%), 6400/60000,loss=0.007534565404057503\n",
      "\tepoch=24/30(80.0%), 12800/60000,loss=0.0060862330719828606\n",
      "\tepoch=24/30(80.0%), 19200/60000,loss=0.006034539081156254\n",
      "\tepoch=24/30(80.0%), 25600/60000,loss=0.005279884673655033\n",
      "\tepoch=24/30(80.0%), 32000/60000,loss=0.006836679298430681\n",
      "\tepoch=24/30(80.0%), 38400/60000,loss=0.006547132041305304\n",
      "\tepoch=24/30(80.0%), 44800/60000,loss=0.006035791244357824\n",
      "\tepoch=24/30(80.0%), 51200/60000,loss=0.00575261889025569\n",
      "\tepoch=24/30(80.0%), 57600/60000,loss=0.005691518075764179\n",
      "\tepoch=25/30(83.33%), 0/60000,loss=8.081102350843139e-06\n",
      "\tepoch=25/30(83.33%), 6400/60000,loss=0.0015086649218574166\n",
      "\tepoch=25/30(83.33%), 12800/60000,loss=0.001814625458791852\n",
      "\tepoch=25/30(83.33%), 19200/60000,loss=0.0017429864965379238\n",
      "\tepoch=25/30(83.33%), 25600/60000,loss=0.001446195994503796\n",
      "\tepoch=25/30(83.33%), 32000/60000,loss=0.0013831928372383118\n",
      "\tepoch=25/30(83.33%), 38400/60000,loss=0.0015280857915058732\n",
      "\tepoch=25/30(83.33%), 44800/60000,loss=0.0019400067394599319\n",
      "\tepoch=25/30(83.33%), 51200/60000,loss=0.002951494650915265\n",
      "\tepoch=25/30(83.33%), 57600/60000,loss=0.003120757406577468\n",
      "\tepoch=26/30(86.67%), 0/60000,loss=0.00016791220696177334\n",
      "\tepoch=26/30(86.67%), 6400/60000,loss=0.0029134827200323343\n",
      "\tepoch=26/30(86.67%), 12800/60000,loss=0.002842176239937544\n",
      "\tepoch=26/30(86.67%), 19200/60000,loss=0.0020676706917583942\n",
      "\tepoch=26/30(86.67%), 25600/60000,loss=0.0020305085927248\n",
      "\tepoch=26/30(86.67%), 32000/60000,loss=0.0025302283465862274\n",
      "\tepoch=26/30(86.67%), 38400/60000,loss=0.0025940858758985996\n",
      "\tepoch=26/30(86.67%), 44800/60000,loss=0.0027946652844548225\n",
      "\tepoch=26/30(86.67%), 51200/60000,loss=0.003070660401135683\n",
      "\tepoch=26/30(86.67%), 57600/60000,loss=0.0028099934570491314\n",
      "\tepoch=27/30(90.0%), 0/60000,loss=1.6980431610136293e-05\n",
      "\tepoch=27/30(90.0%), 6400/60000,loss=0.005255646072328091\n",
      "\tepoch=27/30(90.0%), 12800/60000,loss=0.00389987975358963\n",
      "\tepoch=27/30(90.0%), 19200/60000,loss=0.005480818450450897\n",
      "\tepoch=27/30(90.0%), 25600/60000,loss=0.004570028278976679\n",
      "\tepoch=27/30(90.0%), 32000/60000,loss=0.004075720440596342\n",
      "\tepoch=27/30(90.0%), 38400/60000,loss=0.004220413975417614\n",
      "\tepoch=27/30(90.0%), 44800/60000,loss=0.004101793747395277\n",
      "\tepoch=27/30(90.0%), 51200/60000,loss=0.0041365851648151875\n",
      "\tepoch=27/30(90.0%), 57600/60000,loss=0.004265067167580128\n",
      "\tepoch=28/30(93.33%), 0/60000,loss=1.5580881154164672e-05\n",
      "\tepoch=28/30(93.33%), 6400/60000,loss=0.010406557470560074\n",
      "\tepoch=28/30(93.33%), 12800/60000,loss=0.007525292690843344\n",
      "\tepoch=28/30(93.33%), 19200/60000,loss=0.005931550171226263\n",
      "\tepoch=28/30(93.33%), 25600/60000,loss=0.005568335298448801\n",
      "\tepoch=28/30(93.33%), 32000/60000,loss=0.0059321424923837185\n",
      "\tepoch=28/30(93.33%), 38400/60000,loss=0.006129160989075899\n",
      "\tepoch=28/30(93.33%), 44800/60000,loss=0.005528418347239494\n",
      "\tepoch=28/30(93.33%), 51200/60000,loss=0.005262373480945826\n",
      "\tepoch=28/30(93.33%), 57600/60000,loss=0.004908384755253792\n",
      "\tepoch=29/30(96.67%), 0/60000,loss=0.029165426269173622\n",
      "\tepoch=29/30(96.67%), 6400/60000,loss=0.0024085131008177996\n",
      "\tepoch=29/30(96.67%), 12800/60000,loss=0.0019340054132044315\n",
      "\tepoch=29/30(96.67%), 19200/60000,loss=0.0014348708791658282\n",
      "\tepoch=29/30(96.67%), 25600/60000,loss=0.0016494797309860587\n",
      "\tepoch=29/30(96.67%), 32000/60000,loss=0.001960817724466324\n",
      "\tepoch=29/30(96.67%), 38400/60000,loss=0.0025822834577411413\n",
      "\tepoch=29/30(96.67%), 44800/60000,loss=0.0034265790600329638\n",
      "\tepoch=29/30(96.67%), 51200/60000,loss=0.004096240270882845\n",
      "\tepoch=29/30(96.67%), 57600/60000,loss=0.0038104932755231857\n"
     ]
    }
   ],
   "source": [
    "# train\n",
    "def train(_epoch_loss):\n",
    "    model.train()\n",
    "    for epoch in range(epochs):\n",
    "        batch_loss = []\n",
    "        for batch_id, (batch_x, batch_y) in enumerate(train_loader):\n",
    "            batch_x = batch_x.to(device)\n",
    "            batch_y = batch_y.to(device)\n",
    "\n",
    "            optimizer.zero_grad()  # set grad zero\n",
    "            outputs = model(batch_x)  # forward\n",
    "            loss = cost(outputs, batch_y)  # calc cost function\n",
    "            loss.backward()  # backward\n",
    "            optimizer.step()  # optimizer update\n",
    "\n",
    "            if use_cuda:\n",
    "                batch_loss.append(loss.data.cpu().numpy())\n",
    "            else:\n",
    "                batch_loss.append(loss.data.numpy())\n",
    "            if batch_id % 100 == 0 and len(batch_x) == batch_size:\n",
    "                print(f\"\\tepoch={epoch}/{epochs}({round(epoch / epochs * 100,2)}%), {batch_id * batch_size}/{len(train_loader.dataset)},loss={np.mean(batch_loss)}\")\n",
    "        _epoch_loss.append(np.mean(batch_loss))\n",
    "        \n",
    "train(adam_epoch_loss)"
   ]
  },
  {
   "cell_type": "code",
   "execution_count": 92,
   "metadata": {
    "collapsed": false
   },
   "outputs": [
    {
     "name": "stdout",
     "output_type": "stream",
     "text": [
      "accuracy=0.9914999604225159\n"
     ]
    }
   ],
   "source": [
    "# test\n",
    "def test():\n",
    "    model.eval()\n",
    "    test_loss = 0\n",
    "    correct = 0\n",
    "\n",
    "    with torch.no_grad():\n",
    "        for (test_x, test_y) in test_loader:\n",
    "            test_x = test_x.to(device)\n",
    "            test_y = test_y.to(device)\n",
    "\n",
    "            output = model(test_x)\n",
    "            pred = output.data.max(1, keepdim=True)[1]\n",
    "            correct += pred.eq(test_y.data.view_as(pred)).sum()\n",
    "\n",
    "    print(f\"accuracy={correct / len(test_loader.dataset)}\")\n",
    "\n",
    "\n",
    "test()"
   ]
  },
  {
   "cell_type": "code",
   "execution_count": 95,
   "metadata": {},
   "outputs": [
    {
     "data": {
      "image/png": "[encoded data removed]",
      "text/plain": [
       "<Figure size 432x288 with 1 Axes>"
      ]
     },
     "metadata": {
      "needs_background": "light"
     },
     "output_type": "display_data"
    }
   ],
   "source": [
    "def visualize_loss():\n",
    "    plt.plot(np.linspace(1,30,30),sgd_epoch_loss,'b*-')\n",
    "    plt.plot(np.linspace(1,30,30),momentum_epoch_loss,'r*-')\n",
    "    plt.plot(np.linspace(1,30,30),adam_epoch_loss,'g*-')\n",
    "    plt.legend(['SGD','Momentum','Adam'])\n",
    "    plt.xlabel('epoch')\n",
    "    plt.ylabel('loss')\n",
    "\n",
    "visualize_loss()"
   ]
  },
  {
   "cell_type": "code",
   "execution_count": 103,
   "metadata": {
    "collapsed": false
   },
   "outputs": [
    {
     "data": {
      "image/png": "[encoded data removed]",
      "text/plain": [
       "<Figure size 720x720 with 25 Axes>"
      ]
     },
     "metadata": {
      "needs_background": "light"
     },
     "output_type": "display_data"
    }
   ],
   "source": [
    "# visualize\n",
    "def plot_test():\n",
    "    fig, axs = plt.subplots(nrows=5, ncols=5, figsize=(10, 10))\n",
    "\n",
    "    for i, (test_x, test_y) in enumerate(test_loader):\n",
    "        test_x = test_x.to(device)\n",
    "        test_y = test_y.to(device)\n",
    "\n",
    "        output = model(test_x)\n",
    "        pred = output.data.max(1, keepdim=True)[1]\n",
    "        if i == 0:\n",
    "            for j in range(25):\n",
    "                idx, idy = int(j / 5), j % 5\n",
    "                axs[idx][idy].imshow(test_x[j].cpu().reshape((28, 28)), cmap=\"gray\")\n",
    "                axs[idx][idy].axis('off')\n",
    "                axs[idx][idy].set_title(f\"{pred[j].item()}\")\n",
    "        else:\n",
    "            break\n",
    "plot_test()"
   ]
  },
  {
   "cell_type": "code",
   "execution_count": 97,
   "metadata": {
    "collapsed": false
   },
   "outputs": [],
   "source": [
    "# export\n",
    "def export():\n",
    "    input_shape = torch.rand((1, 1, 28, 28))\n",
    "    input_shape=input_shape.to(device)\n",
    "    model.to(device)\n",
    "    torch.onnx.export(model, input_shape, '../models/MNIST-cnn.onnx') # onnx model\n",
    "    torch.save(model.state_dict(),'../models/MNIST-cnn.pkl') # pkl model\n",
    "export()"
   ]
  },
  {
   "cell_type": "code",
   "execution_count": 98,
   "metadata": {
    "collapsed": false
   },
   "outputs": [
    {
     "name": "stdout",
     "output_type": "stream",
     "text": [
      "Serving '../models/MNIST-cnn.onnx' at http://localhost:8080\n"
     ]
    }
   ],
   "source": [
    "# visualize model\n",
    "import netron\n",
    "\n",
    "def visualize_model():\n",
    "    netron.start('../models/MNIST-cnn.onnx')\n",
    "\n",
    "visualize_model()"
   ]
  }
 ],
 "metadata": {
  "kernelspec": {
   "display_name": "Python 3 (ipykernel)",
   "language": "python",
   "name": "python3"
  },
  "language_info": {
   "codemirror_mode": {
    "name": "ipython",
    "version": 3
   },
   "file_extension": ".py",
   "mimetype": "text/x-python",
   "name": "python",
   "nbconvert_exporter": "python",
   "pygments_lexer": "ipython3",
   "version": "3.8.10"
  }
 },
 "nbformat": 4,
 "nbformat_minor": 0
}
