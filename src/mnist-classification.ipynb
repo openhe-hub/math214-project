{
 "cells": [
  {
   "cell_type": "code",
   "execution_count": 2,
   "metadata": {
    "collapsed": false
   },
   "outputs": [],
   "source": [
    "# 1. import\n",
    "import torch\n",
    "from torch.utils.data import DataLoader\n",
    "from torch import nn\n",
    "import torchvision\n",
    "\n",
    "import matplotlib.pyplot as plt\n",
    "import numpy as np"
   ]
  },
  {
   "cell_type": "code",
   "execution_count": 3,
   "metadata": {
    "collapsed": false
   },
   "outputs": [],
   "source": [
    "# 2. download dataset\n",
    "batch_size = 64\n",
    "\n",
    "train_dataset = torchvision.datasets.MNIST(root=\"../assets/\", train=True, download=True,\n",
    "                                           transform=torchvision.transforms.ToTensor())\n",
    "train_loader = DataLoader(train_dataset, batch_size=batch_size)\n",
    "test_dataset = torchvision.datasets.MNIST(root=\"../assets/\", train=False, download=True,\n",
    "                                          transform=torchvision.transforms.ToTensor())\n",
    "test_loader = DataLoader(test_dataset, batch_size=batch_size)"
   ]
  },
  {
   "cell_type": "code",
   "execution_count": 4,
   "metadata": {
    "collapsed": false
   },
   "outputs": [
    {
     "data": {
      "image/png": "[encoded data removed]",
      "text/plain": [
       "<Figure size 360x360 with 9 Axes>"
      ]
     },
     "metadata": {
      "needs_background": "light"
     },
     "output_type": "display_data"
    }
   ],
   "source": [
    "def plot():\n",
    "    fig, axs = plt.subplots(nrows=3, ncols=3, figsize=(5, 5))\n",
    "    for i, (x, y) in enumerate(train_loader):\n",
    "        if i == 0:\n",
    "            for j in range(9):\n",
    "                idx, idy = int(j / 3), j % 3\n",
    "                axs[idx][idy].imshow(x[j].reshape((28, 28)), cmap=\"gray\")\n",
    "                axs[idx][idy].axis('off')\n",
    "                axs[idx][idy].set_title(y[j].item())\n",
    "        else:\n",
    "            break\n",
    "plot()"
   ]
  },
  {
   "cell_type": "code",
   "execution_count": 5,
   "metadata": {
    "collapsed": false
   },
   "outputs": [],
   "source": [
    "class MnistClassificationModel(nn.Module):\n",
    "    def __init__(self):\n",
    "        super().__init__()\n",
    "        self.conv1 = nn.Sequential(\n",
    "            # (1,28,28) => (16,28,28) => (16,14,14)\n",
    "            nn.Conv2d(1, 16, kernel_size=(3, 3), stride=1, padding=1),\n",
    "            nn.BatchNorm2d(16),\n",
    "            nn.ReLU(),\n",
    "            nn.MaxPool2d(kernel_size=2)\n",
    "        )\n",
    "        self.conv2 = nn.Sequential(\n",
    "            # (16,14,14) => (32,14,14) => (32,7,7)\n",
    "            nn.Conv2d(16, 32, kernel_size=(3, 3), stride=1, padding=1),\n",
    "            nn.BatchNorm2d(32),\n",
    "            nn.ReLU(),\n",
    "            nn.MaxPool2d(kernel_size=2)\n",
    "        )\n",
    "        self.conv3 = nn.Sequential(\n",
    "            # (32,7,7) => (64,7,7) => (64,3,3)\n",
    "            nn.Conv2d(32, 64, kernel_size=(3, 3), stride=1, padding=1),\n",
    "            nn.BatchNorm2d(64),\n",
    "            nn.ReLU(),\n",
    "            nn.MaxPool2d(kernel_size=2)\n",
    "        )\n",
    "        self.linear = nn.Sequential(\n",
    "            nn.Linear(64 * 3 * 3, 128),\n",
    "            nn.ReLU(),\n",
    "            nn.Linear(128, 64),\n",
    "            nn.ReLU(),\n",
    "            nn.Linear(64, 10)\n",
    "        )\n",
    "\n",
    "    def forward(self, x):\n",
    "        x = self.conv1(x)\n",
    "        x = self.conv2(x)\n",
    "        x = self.conv3(x)\n",
    "        x = x.view(x.size(0), -1)  # flatten (batch_size,32*7*7)\n",
    "        x = self.linear(x)\n",
    "        return x"
   ]
  },
  {
   "cell_type": "code",
   "execution_count": 6,
   "metadata": {
    "collapsed": false
   },
   "outputs": [
    {
     "name": "stdout",
     "output_type": "stream",
     "text": [
      "MnistClassificationModel(\n",
      "  (conv1): Sequential(\n",
      "    (0): Conv2d(1, 16, kernel_size=(3, 3), stride=(1, 1), padding=(1, 1))\n",
      "    (1): BatchNorm2d(16, eps=1e-05, momentum=0.1, affine=True, track_running_stats=True)\n",
      "    (2): ReLU()\n",
      "    (3): MaxPool2d(kernel_size=2, stride=2, padding=0, dilation=1, ceil_mode=False)\n",
      "  )\n",
      "  (conv2): Sequential(\n",
      "    (0): Conv2d(16, 32, kernel_size=(3, 3), stride=(1, 1), padding=(1, 1))\n",
      "    (1): BatchNorm2d(32, eps=1e-05, momentum=0.1, affine=True, track_running_stats=True)\n",
      "    (2): ReLU()\n",
      "    (3): MaxPool2d(kernel_size=2, stride=2, padding=0, dilation=1, ceil_mode=False)\n",
      "  )\n",
      "  (conv3): Sequential(\n",
      "    (0): Conv2d(32, 64, kernel_size=(3, 3), stride=(1, 1), padding=(1, 1))\n",
      "    (1): BatchNorm2d(64, eps=1e-05, momentum=0.1, affine=True, track_running_stats=True)\n",
      "    (2): ReLU()\n",
      "    (3): MaxPool2d(kernel_size=2, stride=2, padding=0, dilation=1, ceil_mode=False)\n",
      "  )\n",
      "  (linear): Sequential(\n",
      "    (0): Linear(in_features=576, out_features=128, bias=True)\n",
      "    (1): ReLU()\n",
      "    (2): Linear(in_features=128, out_features=64, bias=True)\n",
      "    (3): ReLU()\n",
      "    (4): Linear(in_features=64, out_features=10, bias=True)\n",
      "  )\n",
      ")\n"
     ]
    }
   ],
   "source": [
    "# display model\n",
    "model = MnistClassificationModel()\n",
    "print(model)"
   ]
  },
  {
   "cell_type": "code",
   "execution_count": 7,
   "metadata": {
    "collapsed": false
   },
   "outputs": [],
   "source": [
    "# optimizer & cost function & params\n",
    "epochs = 30\n",
    "learning_rate = 0.001\n",
    "optimizer = torch.optim.SGD(model.parameters(), lr=learning_rate)\n",
    "cost = nn.CrossEntropyLoss()"
   ]
  },
  {
   "cell_type": "code",
   "execution_count": 8,
   "metadata": {
    "collapsed": false
   },
   "outputs": [
    {
     "name": "stdout",
     "output_type": "stream",
     "text": [
      "cuda:0\n"
     ]
    }
   ],
   "source": [
    "# device\n",
    "use_cuda = torch.cuda.is_available()\n",
    "device = \"cuda:0\" if torch.cuda.is_available() else \"cpu\"\n",
    "print(device)\n",
    "model = model.to(device)"
   ]
  },
  {
   "cell_type": "code",
   "execution_count": 10,
   "metadata": {
    "collapsed": false
   },
   "outputs": [
    {
     "name": "stdout",
     "output_type": "stream",
     "text": [
      "\tepoch=0/30(0.0%), 0/60000,loss=0.1618794947862625\n",
      "\tepoch=0/30(0.0%), 6400/60000,loss=0.1515357345342636\n",
      "\tepoch=0/30(0.0%), 12800/60000,loss=0.1562362164258957\n",
      "\tepoch=0/30(0.0%), 19200/60000,loss=0.15680177509784698\n",
      "\tepoch=0/30(0.0%), 25600/60000,loss=0.15385806560516357\n",
      "\tepoch=0/30(0.0%), 32000/60000,loss=0.154414102435112\n",
      "\tepoch=0/30(0.0%), 38400/60000,loss=0.15280286967754364\n",
      "\tepoch=0/30(0.0%), 44800/60000,loss=0.1522943675518036\n",
      "\tepoch=0/30(0.0%), 51200/60000,loss=0.1529376357793808\n",
      "\tepoch=0/30(0.0%), 57600/60000,loss=0.15027736127376556\n",
      "\tepoch=1/30(3.33%), 0/60000,loss=0.15131156146526337\n",
      "\tepoch=1/30(3.33%), 6400/60000,loss=0.13526494801044464\n",
      "\tepoch=1/30(3.33%), 12800/60000,loss=0.13945183157920837\n",
      "\tepoch=1/30(3.33%), 19200/60000,loss=0.13987407088279724\n",
      "\tepoch=1/30(3.33%), 25600/60000,loss=0.13726237416267395\n",
      "\tepoch=1/30(3.33%), 32000/60000,loss=0.13790543377399445\n",
      "\tepoch=1/30(3.33%), 38400/60000,loss=0.1365942358970642\n",
      "\tepoch=1/30(3.33%), 44800/60000,loss=0.13631966710090637\n",
      "\tepoch=1/30(3.33%), 51200/60000,loss=0.13711139559745789\n",
      "\tepoch=1/30(3.33%), 57600/60000,loss=0.13471028208732605\n",
      "\tepoch=2/30(6.67%), 0/60000,loss=0.13937480747699738\n",
      "\tepoch=2/30(6.67%), 6400/60000,loss=0.12303251028060913\n",
      "\tepoch=2/30(6.67%), 12800/60000,loss=0.12669478356838226\n",
      "\tepoch=2/30(6.67%), 19200/60000,loss=0.12695351243019104\n",
      "\tepoch=2/30(6.67%), 25600/60000,loss=0.12455675005912781\n",
      "\tepoch=2/30(6.67%), 32000/60000,loss=0.1252489686012268\n",
      "\tepoch=2/30(6.67%), 38400/60000,loss=0.12416713684797287\n",
      "\tepoch=2/30(6.67%), 44800/60000,loss=0.12405574321746826\n",
      "\tepoch=2/30(6.67%), 51200/60000,loss=0.12491964548826218\n",
      "\tepoch=2/30(6.67%), 57600/60000,loss=0.12270701676607132\n",
      "\tepoch=3/30(10.0%), 0/60000,loss=0.13053438067436218\n",
      "\tepoch=3/30(10.0%), 6400/60000,loss=0.11340341717004776\n",
      "\tepoch=3/30(10.0%), 12800/60000,loss=0.11655507981777191\n",
      "\tepoch=3/30(10.0%), 19200/60000,loss=0.11666819453239441\n",
      "\tepoch=3/30(10.0%), 25600/60000,loss=0.11441304534673691\n",
      "\tepoch=3/30(10.0%), 32000/60000,loss=0.11513938009738922\n",
      "\tepoch=3/30(10.0%), 38400/60000,loss=0.11424021422863007\n",
      "\tepoch=3/30(10.0%), 44800/60000,loss=0.11424212157726288\n",
      "\tepoch=3/30(10.0%), 51200/60000,loss=0.11513818055391312\n",
      "\tepoch=3/30(10.0%), 57600/60000,loss=0.11307080835103989\n",
      "\tepoch=4/30(13.33%), 0/60000,loss=0.12251058220863342\n",
      "\tepoch=4/30(13.33%), 6400/60000,loss=0.10559582710266113\n",
      "\tepoch=4/30(13.33%), 12800/60000,loss=0.10827872157096863\n",
      "\tepoch=4/30(13.33%), 19200/60000,loss=0.10824248194694519\n",
      "\tepoch=4/30(13.33%), 25600/60000,loss=0.1060795933008194\n",
      "\tepoch=4/30(13.33%), 32000/60000,loss=0.106826052069664\n",
      "\tepoch=4/30(13.33%), 38400/60000,loss=0.10607477277517319\n",
      "\tepoch=4/30(13.33%), 44800/60000,loss=0.10616473108530045\n",
      "\tepoch=4/30(13.33%), 51200/60000,loss=0.10706841200590134\n",
      "\tepoch=4/30(13.33%), 57600/60000,loss=0.10512404888868332\n",
      "\tepoch=5/30(16.67%), 0/60000,loss=0.11533466726541519\n",
      "\tepoch=5/30(16.67%), 6400/60000,loss=0.099037304520607\n",
      "\tepoch=5/30(16.67%), 12800/60000,loss=0.1013052836060524\n",
      "\tepoch=5/30(16.67%), 19200/60000,loss=0.10113523155450821\n",
      "\tepoch=5/30(16.67%), 25600/60000,loss=0.09902875125408173\n",
      "\tepoch=5/30(16.67%), 32000/60000,loss=0.09979423880577087\n",
      "\tepoch=5/30(16.67%), 38400/60000,loss=0.09916872531175613\n",
      "\tepoch=5/30(16.67%), 44800/60000,loss=0.09931997954845428\n",
      "\tepoch=5/30(16.67%), 51200/60000,loss=0.10022950172424316\n",
      "\tepoch=5/30(16.67%), 57600/60000,loss=0.09839244931936264\n",
      "\tepoch=6/30(20.0%), 0/60000,loss=0.10944138467311859\n",
      "\tepoch=6/30(20.0%), 6400/60000,loss=0.09342611581087112\n",
      "\tepoch=6/30(20.0%), 12800/60000,loss=0.09535982459783554\n",
      "\tepoch=6/30(20.0%), 19200/60000,loss=0.09506182372570038\n",
      "\tepoch=6/30(20.0%), 25600/60000,loss=0.09298249334096909\n",
      "\tepoch=6/30(20.0%), 32000/60000,loss=0.09375763684511185\n",
      "\tepoch=6/30(20.0%), 38400/60000,loss=0.0932474285364151\n",
      "\tepoch=6/30(20.0%), 44800/60000,loss=0.0934424102306366\n",
      "\tepoch=6/30(20.0%), 51200/60000,loss=0.09434760361909866\n",
      "\tepoch=6/30(20.0%), 57600/60000,loss=0.09260571002960205\n",
      "\tepoch=7/30(23.33%), 0/60000,loss=0.10403864830732346\n",
      "\tepoch=7/30(23.33%), 6400/60000,loss=0.08854386955499649\n",
      "\tepoch=7/30(23.33%), 12800/60000,loss=0.09018931537866592\n",
      "\tepoch=7/30(23.33%), 19200/60000,loss=0.08977578580379486\n",
      "\tepoch=7/30(23.33%), 25600/60000,loss=0.08770662546157837\n",
      "\tepoch=7/30(23.33%), 32000/60000,loss=0.08850111067295074\n",
      "\tepoch=7/30(23.33%), 38400/60000,loss=0.08809878677129745\n",
      "\tepoch=7/30(23.33%), 44800/60000,loss=0.08832252025604248\n",
      "\tepoch=7/30(23.33%), 51200/60000,loss=0.08921635150909424\n",
      "\tepoch=7/30(23.33%), 57600/60000,loss=0.08756282925605774\n",
      "\tepoch=8/30(26.67%), 0/60000,loss=0.09882495552301407\n",
      "\tepoch=8/30(26.67%), 6400/60000,loss=0.08429715782403946\n",
      "\tepoch=8/30(26.67%), 12800/60000,loss=0.0856652557849884\n",
      "\tepoch=8/30(26.67%), 19200/60000,loss=0.08512506633996964\n",
      "\tepoch=8/30(26.67%), 25600/60000,loss=0.08306547999382019\n",
      "\tepoch=8/30(26.67%), 32000/60000,loss=0.08387098461389542\n",
      "\tepoch=8/30(26.67%), 38400/60000,loss=0.08356481045484543\n",
      "\tepoch=8/30(26.67%), 44800/60000,loss=0.08380670100450516\n",
      "\tepoch=8/30(26.67%), 51200/60000,loss=0.08467923849821091\n",
      "\tepoch=8/30(26.67%), 57600/60000,loss=0.08310706168413162\n",
      "\tepoch=9/30(30.0%), 0/60000,loss=0.09444060176610947\n",
      "\tepoch=9/30(30.0%), 6400/60000,loss=0.08049307018518448\n",
      "\tepoch=9/30(30.0%), 12800/60000,loss=0.08162246644496918\n",
      "\tepoch=9/30(30.0%), 19200/60000,loss=0.08098065108060837\n",
      "\tepoch=9/30(30.0%), 25600/60000,loss=0.07893142104148865\n",
      "\tepoch=9/30(30.0%), 32000/60000,loss=0.07974006980657578\n",
      "\tepoch=9/30(30.0%), 38400/60000,loss=0.0795210599899292\n",
      "\tepoch=9/30(30.0%), 44800/60000,loss=0.07977760583162308\n",
      "\tepoch=9/30(30.0%), 51200/60000,loss=0.08062754571437836\n",
      "\tepoch=9/30(30.0%), 57600/60000,loss=0.07912939041852951\n",
      "\tepoch=10/30(33.33%), 0/60000,loss=0.09035297483205795\n",
      "\tepoch=10/30(33.33%), 6400/60000,loss=0.0770806074142456\n",
      "\tepoch=10/30(33.33%), 12800/60000,loss=0.07799536734819412\n",
      "\tepoch=10/30(33.33%), 19200/60000,loss=0.07725469022989273\n",
      "\tepoch=10/30(33.33%), 25600/60000,loss=0.07521829754114151\n",
      "\tepoch=10/30(33.33%), 32000/60000,loss=0.0760299488902092\n",
      "\tepoch=10/30(33.33%), 38400/60000,loss=0.07589072734117508\n",
      "\tepoch=10/30(33.33%), 44800/60000,loss=0.07615824043750763\n",
      "\tepoch=10/30(33.33%), 51200/60000,loss=0.07698467373847961\n",
      "\tepoch=10/30(33.33%), 57600/60000,loss=0.07555774599313736\n",
      "\tepoch=11/30(36.67%), 0/60000,loss=0.08638452738523483\n",
      "\tepoch=11/30(36.67%), 6400/60000,loss=0.07396332919597626\n",
      "\tepoch=11/30(36.67%), 12800/60000,loss=0.07469182461500168\n",
      "\tepoch=11/30(36.67%), 19200/60000,loss=0.07386854290962219\n",
      "\tepoch=11/30(36.67%), 25600/60000,loss=0.07184519618749619\n",
      "\tepoch=11/30(36.67%), 32000/60000,loss=0.07266806066036224\n",
      "\tepoch=11/30(36.67%), 38400/60000,loss=0.07260341197252274\n",
      "\tepoch=11/30(36.67%), 44800/60000,loss=0.0728788748383522\n",
      "\tepoch=11/30(36.67%), 51200/60000,loss=0.0736827701330185\n",
      "\tepoch=11/30(36.67%), 57600/60000,loss=0.07232142984867096\n",
      "\tepoch=12/30(40.0%), 0/60000,loss=0.08278095722198486\n",
      "\tepoch=12/30(40.0%), 6400/60000,loss=0.07112899422645569\n",
      "\tepoch=12/30(40.0%), 12800/60000,loss=0.0716748982667923\n",
      "\tepoch=12/30(40.0%), 19200/60000,loss=0.07078978419303894\n",
      "\tepoch=12/30(40.0%), 25600/60000,loss=0.06879262626171112\n",
      "\tepoch=12/30(40.0%), 32000/60000,loss=0.06960894912481308\n",
      "\tepoch=12/30(40.0%), 38400/60000,loss=0.06961143016815186\n",
      "\tepoch=12/30(40.0%), 44800/60000,loss=0.06988385319709778\n",
      "\tepoch=12/30(40.0%), 51200/60000,loss=0.07067081332206726\n",
      "\tepoch=12/30(40.0%), 57600/60000,loss=0.06937010586261749\n",
      "\tepoch=13/30(43.33%), 0/60000,loss=0.07967616617679596\n",
      "\tepoch=13/30(43.33%), 6400/60000,loss=0.06851329654455185\n",
      "\tepoch=13/30(43.33%), 12800/60000,loss=0.06891261786222458\n",
      "\tepoch=13/30(43.33%), 19200/60000,loss=0.06796758621931076\n",
      "\tepoch=13/30(43.33%), 25600/60000,loss=0.06599034368991852\n",
      "\tepoch=13/30(43.33%), 32000/60000,loss=0.06680141389369965\n",
      "\tepoch=13/30(43.33%), 38400/60000,loss=0.06686562299728394\n",
      "\tepoch=13/30(43.33%), 44800/60000,loss=0.06713659316301346\n",
      "\tepoch=13/30(43.33%), 51200/60000,loss=0.06790842860937119\n",
      "\tepoch=13/30(43.33%), 57600/60000,loss=0.0666641965508461\n",
      "\tepoch=14/30(46.67%), 0/60000,loss=0.07650931924581528\n",
      "\tepoch=14/30(46.67%), 6400/60000,loss=0.0661056712269783\n",
      "\tepoch=14/30(46.67%), 12800/60000,loss=0.06634487956762314\n",
      "\tepoch=14/30(46.67%), 19200/60000,loss=0.06535658240318298\n",
      "\tepoch=14/30(46.67%), 25600/60000,loss=0.06339261680841446\n",
      "\tepoch=14/30(46.67%), 32000/60000,loss=0.06420216709375381\n",
      "\tepoch=14/30(46.67%), 38400/60000,loss=0.06432441622018814\n",
      "\tepoch=14/30(46.67%), 44800/60000,loss=0.06459983438253403\n",
      "\tepoch=14/30(46.67%), 51200/60000,loss=0.06535525619983673\n",
      "\tepoch=14/30(46.67%), 57600/60000,loss=0.0641675591468811\n",
      "\tepoch=15/30(50.0%), 0/60000,loss=0.07363753020763397\n",
      "\tepoch=15/30(50.0%), 6400/60000,loss=0.06385999172925949\n",
      "\tepoch=15/30(50.0%), 12800/60000,loss=0.06396812945604324\n",
      "\tepoch=15/30(50.0%), 19200/60000,loss=0.06294087320566177\n",
      "\tepoch=15/30(50.0%), 25600/60000,loss=0.061002735048532486\n",
      "\tepoch=15/30(50.0%), 32000/60000,loss=0.06180770322680473\n",
      "\tepoch=15/30(50.0%), 38400/60000,loss=0.06198888272047043\n",
      "\tepoch=15/30(50.0%), 44800/60000,loss=0.06226413697004318\n",
      "\tepoch=15/30(50.0%), 51200/60000,loss=0.06300240010023117\n",
      "\tepoch=15/30(50.0%), 57600/60000,loss=0.06186708062887192\n",
      "\tepoch=16/30(53.33%), 0/60000,loss=0.07073438912630081\n",
      "\tepoch=16/30(53.33%), 6400/60000,loss=0.06176821514964104\n",
      "\tepoch=16/30(53.33%), 12800/60000,loss=0.06174841895699501\n",
      "\tepoch=16/30(53.33%), 19200/60000,loss=0.06068730726838112\n",
      "\tepoch=16/30(53.33%), 25600/60000,loss=0.05878094583749771\n",
      "\tepoch=16/30(53.33%), 32000/60000,loss=0.059584323316812515\n",
      "\tepoch=16/30(53.33%), 38400/60000,loss=0.05982354283332825\n",
      "\tepoch=16/30(53.33%), 44800/60000,loss=0.06009327992796898\n",
      "\tepoch=16/30(53.33%), 51200/60000,loss=0.06081376224756241\n",
      "\tepoch=16/30(53.33%), 57600/60000,loss=0.05972844734787941\n",
      "\tepoch=17/30(56.67%), 0/60000,loss=0.06823281198740005\n",
      "\tepoch=17/30(56.67%), 6400/60000,loss=0.05984071269631386\n",
      "\tepoch=17/30(56.67%), 12800/60000,loss=0.059687335044145584\n",
      "\tepoch=17/30(56.67%), 19200/60000,loss=0.058590106666088104\n",
      "\tepoch=17/30(56.67%), 25600/60000,loss=0.05672086775302887\n",
      "\tepoch=17/30(56.67%), 32000/60000,loss=0.05751794949173927\n",
      "\tepoch=17/30(56.67%), 38400/60000,loss=0.057801827788352966\n",
      "\tepoch=17/30(56.67%), 44800/60000,loss=0.05807199701666832\n",
      "\tepoch=17/30(56.67%), 51200/60000,loss=0.05877915024757385\n",
      "\tepoch=17/30(56.67%), 57600/60000,loss=0.057743947952985764\n",
      "\tepoch=18/30(60.0%), 0/60000,loss=0.0656522661447525\n",
      "\tepoch=18/30(60.0%), 6400/60000,loss=0.058033790439367294\n",
      "\tepoch=18/30(60.0%), 12800/60000,loss=0.05777202546596527\n",
      "\tepoch=18/30(60.0%), 19200/60000,loss=0.056650739163160324\n",
      "\tepoch=18/30(60.0%), 25600/60000,loss=0.05481082201004028\n",
      "\tepoch=18/30(60.0%), 32000/60000,loss=0.05560506135225296\n",
      "\tepoch=18/30(60.0%), 38400/60000,loss=0.055931851267814636\n",
      "\tepoch=18/30(60.0%), 44800/60000,loss=0.05619784817099571\n",
      "\tepoch=18/30(60.0%), 51200/60000,loss=0.05688610300421715\n",
      "\tepoch=18/30(60.0%), 57600/60000,loss=0.05589478090405464\n",
      "\tepoch=19/30(63.33%), 0/60000,loss=0.06331668794155121\n",
      "\tepoch=19/30(63.33%), 6400/60000,loss=0.056334882974624634\n",
      "\tepoch=19/30(63.33%), 12800/60000,loss=0.05599651858210564\n",
      "\tepoch=19/30(63.33%), 19200/60000,loss=0.05484575405716896\n",
      "\tepoch=19/30(63.33%), 25600/60000,loss=0.05303434282541275\n",
      "\tepoch=19/30(63.33%), 32000/60000,loss=0.05382423847913742\n",
      "\tepoch=19/30(63.33%), 38400/60000,loss=0.05418592691421509\n",
      "\tepoch=19/30(63.33%), 44800/60000,loss=0.054452985525131226\n",
      "\tepoch=19/30(63.33%), 51200/60000,loss=0.055125318467617035\n",
      "\tepoch=19/30(63.33%), 57600/60000,loss=0.05417510122060776\n",
      "\tepoch=20/30(66.67%), 0/60000,loss=0.06071680411696434\n",
      "\tepoch=20/30(66.67%), 6400/60000,loss=0.0547306165099144\n",
      "\tepoch=20/30(66.67%), 12800/60000,loss=0.05430852621793747\n",
      "\tepoch=20/30(66.67%), 19200/60000,loss=0.053133774548769\n",
      "\tepoch=20/30(66.67%), 25600/60000,loss=0.051357120275497437\n",
      "\tepoch=20/30(66.67%), 32000/60000,loss=0.05214150995016098\n",
      "\tepoch=20/30(66.67%), 38400/60000,loss=0.05253934487700462\n",
      "\tepoch=20/30(66.67%), 44800/60000,loss=0.05280713737010956\n",
      "\tepoch=20/30(66.67%), 51200/60000,loss=0.053461719304323196\n",
      "\tepoch=20/30(66.67%), 57600/60000,loss=0.052552759647369385\n",
      "\tepoch=21/30(70.0%), 0/60000,loss=0.05807600915431976\n",
      "\tepoch=21/30(70.0%), 6400/60000,loss=0.05319703742861748\n",
      "\tepoch=21/30(70.0%), 12800/60000,loss=0.05271400138735771\n",
      "\tepoch=21/30(70.0%), 19200/60000,loss=0.05152346193790436\n",
      "\tepoch=21/30(70.0%), 25600/60000,loss=0.049781665205955505\n",
      "\tepoch=21/30(70.0%), 32000/60000,loss=0.050560012459754944\n",
      "\tepoch=21/30(70.0%), 38400/60000,loss=0.05099225416779518\n",
      "\tepoch=21/30(70.0%), 44800/60000,loss=0.05125835910439491\n",
      "\tepoch=21/30(70.0%), 51200/60000,loss=0.051899295300245285\n",
      "\tepoch=21/30(70.0%), 57600/60000,loss=0.051025744527578354\n",
      "\tepoch=22/30(73.33%), 0/60000,loss=0.055409692227840424\n",
      "\tepoch=22/30(73.33%), 6400/60000,loss=0.051761526614427567\n",
      "\tepoch=22/30(73.33%), 12800/60000,loss=0.05121127516031265\n",
      "\tepoch=22/30(73.33%), 19200/60000,loss=0.050009049475193024\n",
      "\tepoch=22/30(73.33%), 25600/60000,loss=0.04829670116305351\n",
      "\tepoch=22/30(73.33%), 32000/60000,loss=0.04906414821743965\n",
      "\tepoch=22/30(73.33%), 38400/60000,loss=0.049529120326042175\n",
      "\tepoch=22/30(73.33%), 44800/60000,loss=0.04979245364665985\n",
      "\tepoch=22/30(73.33%), 51200/60000,loss=0.050422221422195435\n",
      "\tepoch=22/30(73.33%), 57600/60000,loss=0.04958471655845642\n",
      "\tepoch=23/30(76.67%), 0/60000,loss=0.05306678265333176\n",
      "\tepoch=23/30(76.67%), 6400/60000,loss=0.05038653314113617\n",
      "\tepoch=23/30(76.67%), 12800/60000,loss=0.049784522503614426\n",
      "\tepoch=23/30(76.67%), 19200/60000,loss=0.048571471124887466\n",
      "\tepoch=23/30(76.67%), 25600/60000,loss=0.046886272728443146\n",
      "\tepoch=23/30(76.67%), 32000/60000,loss=0.04764653742313385\n",
      "\tepoch=23/30(76.67%), 38400/60000,loss=0.048143111169338226\n",
      "\tepoch=23/30(76.67%), 44800/60000,loss=0.04840059578418732\n",
      "\tepoch=23/30(76.67%), 51200/60000,loss=0.04901731386780739\n",
      "\tepoch=23/30(76.67%), 57600/60000,loss=0.048212166875600815\n",
      "\tepoch=24/30(80.0%), 0/60000,loss=0.05097584053874016\n",
      "\tepoch=24/30(80.0%), 6400/60000,loss=0.04906562715768814\n",
      "\tepoch=24/30(80.0%), 12800/60000,loss=0.04842815920710564\n",
      "\tepoch=24/30(80.0%), 19200/60000,loss=0.04719662666320801\n",
      "\tepoch=24/30(80.0%), 25600/60000,loss=0.0455462671816349\n",
      "\tepoch=24/30(80.0%), 32000/60000,loss=0.046297837048769\n",
      "\tepoch=24/30(80.0%), 38400/60000,loss=0.04682399705052376\n",
      "\tepoch=24/30(80.0%), 44800/60000,loss=0.04707719385623932\n",
      "\tepoch=24/30(80.0%), 51200/60000,loss=0.04767942056059837\n",
      "\tepoch=24/30(80.0%), 57600/60000,loss=0.04690467566251755\n",
      "\tepoch=25/30(83.33%), 0/60000,loss=0.04889877140522003\n",
      "\tepoch=25/30(83.33%), 6400/60000,loss=0.04782600328326225\n",
      "\tepoch=25/30(83.33%), 12800/60000,loss=0.047153692692518234\n",
      "\tepoch=25/30(83.33%), 19200/60000,loss=0.04590699449181557\n",
      "\tepoch=25/30(83.33%), 25600/60000,loss=0.044285763055086136\n",
      "\tepoch=25/30(83.33%), 32000/60000,loss=0.04503122717142105\n",
      "\tepoch=25/30(83.33%), 38400/60000,loss=0.04558365419507027\n",
      "\tepoch=25/30(83.33%), 44800/60000,loss=0.04583260789513588\n",
      "\tepoch=25/30(83.33%), 51200/60000,loss=0.046420659869909286\n",
      "\tepoch=25/30(83.33%), 57600/60000,loss=0.04567526653409004\n",
      "\tepoch=26/30(86.67%), 0/60000,loss=0.04697492718696594\n",
      "\tepoch=26/30(86.67%), 6400/60000,loss=0.04665141925215721\n",
      "\tepoch=26/30(86.67%), 12800/60000,loss=0.045931290835142136\n",
      "\tepoch=26/30(86.67%), 19200/60000,loss=0.04467872902750969\n",
      "\tepoch=26/30(86.67%), 25600/60000,loss=0.043081555515527725\n",
      "\tepoch=26/30(86.67%), 32000/60000,loss=0.04382224380970001\n",
      "\tepoch=26/30(86.67%), 38400/60000,loss=0.044402893632650375\n",
      "\tepoch=26/30(86.67%), 44800/60000,loss=0.0446493923664093\n",
      "\tepoch=26/30(86.67%), 51200/60000,loss=0.04522436857223511\n",
      "\tepoch=26/30(86.67%), 57600/60000,loss=0.04450518265366554\n",
      "\tepoch=27/30(90.0%), 0/60000,loss=0.04514939337968826\n",
      "\tepoch=27/30(90.0%), 6400/60000,loss=0.045502930879592896\n",
      "\tepoch=27/30(90.0%), 12800/60000,loss=0.04476790130138397\n",
      "\tepoch=27/30(90.0%), 19200/60000,loss=0.04350482299923897\n",
      "\tepoch=27/30(90.0%), 25600/60000,loss=0.04193434864282608\n",
      "\tepoch=27/30(90.0%), 32000/60000,loss=0.04266904294490814\n",
      "\tepoch=27/30(90.0%), 38400/60000,loss=0.04327378794550896\n",
      "\tepoch=27/30(90.0%), 44800/60000,loss=0.043514784425497055\n",
      "\tepoch=27/30(90.0%), 51200/60000,loss=0.04407427832484245\n",
      "\tepoch=27/30(90.0%), 57600/60000,loss=0.04338011145591736\n",
      "\tepoch=28/30(93.33%), 0/60000,loss=0.04346001148223877\n",
      "\tepoch=28/30(93.33%), 6400/60000,loss=0.04440399631857872\n",
      "\tepoch=28/30(93.33%), 12800/60000,loss=0.04364342987537384\n",
      "\tepoch=28/30(93.33%), 19200/60000,loss=0.04238298162817955\n",
      "\tepoch=28/30(93.33%), 25600/60000,loss=0.04083932563662529\n",
      "\tepoch=28/30(93.33%), 32000/60000,loss=0.04156830534338951\n",
      "\tepoch=28/30(93.33%), 38400/60000,loss=0.042195167392492294\n",
      "\tepoch=28/30(93.33%), 44800/60000,loss=0.042430322617292404\n",
      "\tepoch=28/30(93.33%), 51200/60000,loss=0.042975008487701416\n",
      "\tepoch=28/30(93.33%), 57600/60000,loss=0.04230605065822601\n",
      "\tepoch=29/30(96.67%), 0/60000,loss=0.04162825644016266\n",
      "\tepoch=29/30(96.67%), 6400/60000,loss=0.043338578194379807\n",
      "\tepoch=29/30(96.67%), 12800/60000,loss=0.04257943108677864\n",
      "\tepoch=29/30(96.67%), 19200/60000,loss=0.04131469875574112\n",
      "\tepoch=29/30(96.67%), 25600/60000,loss=0.03979688510298729\n",
      "\tepoch=29/30(96.67%), 32000/60000,loss=0.04051971435546875\n",
      "\tepoch=29/30(96.67%), 38400/60000,loss=0.04116690158843994\n",
      "\tepoch=29/30(96.67%), 44800/60000,loss=0.041393134742975235\n",
      "\tepoch=29/30(96.67%), 51200/60000,loss=0.0419248566031456\n",
      "\tepoch=29/30(96.67%), 57600/60000,loss=0.041279926896095276\n"
     ]
    }
   ],
   "source": [
    "# train\n",
    "epoch_loss=[]\n",
    "def train():\n",
    "    model.train()\n",
    "    for epoch in range(epochs):\n",
    "        batch_loss = []\n",
    "        for batch_id, (batch_x, batch_y) in enumerate(train_loader):\n",
    "            batch_x = batch_x.to(device)\n",
    "            batch_y = batch_y.to(device)\n",
    "\n",
    "            optimizer.zero_grad()  # set grad zero\n",
    "            outputs = model(batch_x)  # forward\n",
    "            loss = cost(outputs, batch_y)  # calc cost function\n",
    "            loss.backward()  # backward\n",
    "            optimizer.step()  # optimizer update\n",
    "\n",
    "            if use_cuda:\n",
    "                batch_loss.append(loss.data.cpu().numpy())\n",
    "            else:\n",
    "                batch_loss.append(loss.data.numpy())\n",
    "            if batch_id % 100 == 0 and len(batch_x) == batch_size:\n",
    "                print(f\"\\tepoch={epoch}/{epochs}({round(epoch / epochs * 100,2)}%), {batch_id * batch_size}/{len(train_loader.dataset)},loss={np.mean(batch_loss)}\")\n",
    "        epoch_loss.append(np.mean(batch_loss))\n",
    "train()"
   ]
  },
  {
   "cell_type": "code",
   "execution_count": 11,
   "metadata": {
    "collapsed": false
   },
   "outputs": [
    {
     "name": "stdout",
     "output_type": "stream",
     "text": [
      "accuracy=0.9866999983787537\n"
     ]
    }
   ],
   "source": [
    "# test\n",
    "def test():\n",
    "    model.eval()\n",
    "    test_loss = 0\n",
    "    correct = 0\n",
    "\n",
    "    with torch.no_grad():\n",
    "        for (test_x, test_y) in test_loader:\n",
    "            test_x = test_x.to(device)\n",
    "            test_y = test_y.to(device)\n",
    "\n",
    "            output = model(test_x)\n",
    "            pred = output.data.max(1, keepdim=True)[1]\n",
    "            correct += pred.eq(test_y.data.view_as(pred)).sum()\n",
    "\n",
    "    print(f\"accuracy={correct / len(test_loader.dataset)}\")\n",
    "\n",
    "\n",
    "test()"
   ]
  },
  {
   "cell_type": "code",
   "execution_count": 17,
   "metadata": {},
   "outputs": [
    {
     "data": {
      "image/png": "[encoded data removed]",
      "text/plain": [
       "<Figure size 432x288 with 1 Axes>"
      ]
     },
     "metadata": {
      "needs_background": "light"
     },
     "output_type": "display_data"
    }
   ],
   "source": [
    "def visualize_loss():\n",
    "    plt.plot(np.linspace(1,30,30),epoch_loss,'b*-')\n",
    "    plt.xlabel('epoch')\n",
    "    plt.ylabel('loss')\n",
    "\n",
    "visualize_loss()"
   ]
  },
  {
   "cell_type": "code",
   "execution_count": 18,
   "metadata": {
    "collapsed": false
   },
   "outputs": [
    {
     "data": {
      "image/png": "[encoded data removed]",
      "text/plain": [
       "<Figure size 576x576 with 9 Axes>"
      ]
     },
     "metadata": {
      "needs_background": "light"
     },
     "output_type": "display_data"
    }
   ],
   "source": [
    "# visualize\n",
    "def plot_test():\n",
    "    fig, axs = plt.subplots(nrows=3, ncols=3, figsize=(8, 8))\n",
    "\n",
    "    for i, (test_x, test_y) in enumerate(test_loader):\n",
    "        test_x = test_x.to(device)\n",
    "        test_y = test_y.to(device)\n",
    "\n",
    "        output = model(test_x)\n",
    "        pred = output.data.max(1, keepdim=True)[1]\n",
    "        if i == 0:\n",
    "            for j in range(9):\n",
    "                idx, idy = int(j / 3), j % 3\n",
    "                axs[idx][idy].imshow(test_x[j].cpu().reshape((28, 28)), cmap=\"gray\")\n",
    "                axs[idx][idy].axis('off')\n",
    "                axs[idx][idy].set_title(f\"pred={pred[j].item()}, actual={test_y[j].item()}\")\n",
    "        else:\n",
    "            break\n",
    "plot_test()"
   ]
  },
  {
   "cell_type": "code",
   "execution_count": 11,
   "metadata": {
    "collapsed": false
   },
   "outputs": [],
   "source": [
    "# export\n",
    "def export():\n",
    "    input_shape = torch.rand((1, 1, 28, 28))\n",
    "    input_shape=input_shape.to(device)\n",
    "    model.to(device)\n",
    "    torch.onnx.export(model, input_shape, '../models/MNIST-cnn.onnx') # onnx model\n",
    "    torch.save(model.state_dict(),'../models/MNIST-cnn.pkl') # pkl model\n",
    "export()"
   ]
  },
  {
   "cell_type": "code",
   "execution_count": 1,
   "metadata": {
    "collapsed": false
   },
   "outputs": [
    {
     "name": "stdout",
     "output_type": "stream",
     "text": [
      "Serving '../models/MNIST-cnn.onnx' at http://localhost:8080\n"
     ]
    }
   ],
   "source": [
    "# visualize model\n",
    "import netron\n",
    "\n",
    "def visualize_model():\n",
    "    netron.start('../models/MNIST-cnn.onnx')\n",
    "\n",
    "visualize_model()"
   ]
  }
 ],
 "metadata": {
  "kernelspec": {
   "display_name": "Python 3 (ipykernel)",
   "language": "python",
   "name": "python3"
  },
  "language_info": {
   "codemirror_mode": {
    "name": "ipython",
    "version": 3
   },
   "file_extension": ".py",
   "mimetype": "text/x-python",
   "name": "python",
   "nbconvert_exporter": "python",
   "pygments_lexer": "ipython3",
   "version": "3.10.10"
  }
 },
 "nbformat": 4,
 "nbformat_minor": 0
}
